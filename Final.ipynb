{
 "cells": [
  {
   "cell_type": "code",
   "execution_count": 1,
   "metadata": {},
   "outputs": [
    {
     "name": "stderr",
     "output_type": "stream",
     "text": [
      "Using TensorFlow backend.\n"
     ]
    }
   ],
   "source": [
    "import os\n",
    "import cv2\n",
    "import numpy as np\n",
    "import pandas as pd\n",
    "import matplotlib.pyplot as plt\n",
    "import itertools\n",
    "\n",
    "from keras.utils.np_utils import to_categorical\n",
    "\n",
    "from keras.preprocessing.image import ImageDataGenerator\n",
    "from keras.applications import DenseNet201\n",
    "from keras import applications\n",
    "from keras.models import Sequential\n",
    "from keras import layers\n",
    "from keras.layers import Dense, Dropout\n",
    "from keras.layers import GlobalAveragePooling2D\n",
    "from keras.optimizers import Adam\n",
    "from keras.callbacks import ModelCheckpoint, ReduceLROnPlateau\n",
    "from keras.models import load_model\n",
    "\n",
    "from sklearn.metrics import classification_report\n",
    "from sklearn.metrics import confusion_matrix\n"
   ]
  },
  {
   "cell_type": "code",
   "execution_count": 2,
   "metadata": {},
   "outputs": [],
   "source": [
    "#Function for import image\n",
    "#Return a list of array (each array represent an image in gray lvl)\n",
    "def importfile(letter, liste, directory) :\n",
    "    for filename in os.listdir(directory):\n",
    "        if filename.startswith(letter):\n",
    "            image = cv2.imread(directory+filename)\n",
    "            image = cv2.resize(image, (224, 224))\n",
    "            image = np.array(image)        \n",
    "            liste.append(image)\n",
    "    return liste"
   ]
  },
  {
   "cell_type": "code",
   "execution_count": 3,
   "metadata": {},
   "outputs": [],
   "source": [
    "benign_list = []\n",
    "importfile('b', benign_list, 'Train/benign/')\n",
    "benign_labels = []\n",
    "for i in range (100) :\n",
    "    benign_labels.append(0)\n",
    "cancer_list = []\n",
    "importfile('c', cancer_list, 'Train/cancer/')\n",
    "cancer_labels = []\n",
    "for i in range (100) :\n",
    "    cancer_labels.append(1)\n",
    "\n",
    "data = benign_list + cancer_list\n",
    "labels = benign_labels + cancer_labels"
   ]
  },
  {
   "cell_type": "code",
   "execution_count": 4,
   "metadata": {},
   "outputs": [],
   "source": [
    "benign_list_test = []\n",
    "importfile('b', benign_list_test, 'Validation/')\n",
    "benign_labels_test = []\n",
    "for i in range (101, 151) :\n",
    "    benign_labels_test.append(0)\n",
    "cancer_list_test = []\n",
    "importfile('c', cancer_list_test, 'Validation/')\n",
    "cancer_labels_test = []\n",
    "for i in range (101, 151) :\n",
    "    cancer_labels_test.append(1)\n",
    "\n",
    "data_test = benign_list_test + cancer_list_test\n",
    "labels_test = benign_labels_test + cancer_labels_test\n",
    "\n"
   ]
  },
  {
   "cell_type": "code",
   "execution_count": 5,
   "metadata": {},
   "outputs": [],
   "source": [
    "benign_train = benign_list\n",
    "benign_test = benign_list_test\n",
    "malign_train = cancer_list\n",
    "malign_test = cancer_list_test"
   ]
  },
  {
   "cell_type": "code",
   "execution_count": 6,
   "metadata": {},
   "outputs": [],
   "source": [
    "benign_train_label = np.zeros(len(benign_train))\n",
    "malign_train_label = np.ones(len(malign_train))\n",
    "benign_test_label = np.zeros(len(benign_test))\n",
    "malign_test_label = np.ones(len(malign_test))\n",
    "\n",
    "X_train = np.concatenate((benign_train, malign_train), axis = 0)\n",
    "Y_train = np.concatenate((benign_train_label, malign_train_label), axis = 0)\n",
    "X_test = np.concatenate((benign_test, malign_test), axis = 0)\n",
    "Y_test = np.concatenate((benign_test_label, malign_test_label), axis = 0)\n",
    "\n",
    "s = np.arange(X_train.shape[0])\n",
    "np.random.shuffle(s)\n",
    "X_train = X_train[s]\n",
    "Y_train = Y_train[s]\n",
    "\n",
    "s = np.arange(X_test.shape[0])\n",
    "np.random.shuffle(s)\n",
    "X_test = X_test[s]\n",
    "Y_test = Y_test[s]\n",
    "\n",
    "Y_train = to_categorical(Y_train, num_classes= 2)\n",
    "Y_test = to_categorical(Y_test, num_classes= 2)"
   ]
  },
  {
   "cell_type": "code",
   "execution_count": 7,
   "metadata": {},
   "outputs": [],
   "source": [
    "BATCH_SIZE = 2\n",
    "\n",
    "train_generator = ImageDataGenerator(\n",
    "        zoom_range=2,  # set range for random zoom\n",
    "        rotation_range = 90,\n",
    "        horizontal_flip=True,  # randomly flip images\n",
    "        vertical_flip=True,  # randomly flip images\n",
    "    )"
   ]
  },
  {
   "cell_type": "code",
   "execution_count": 8,
   "metadata": {
    "scrolled": false
   },
   "outputs": [
    {
     "name": "stdout",
     "output_type": "stream",
     "text": [
      "Model: \"sequential_1\"\n",
      "_________________________________________________________________\n",
      "Layer (type)                 Output Shape              Param #   \n",
      "=================================================================\n",
      "densenet201 (Model)          (None, 7, 7, 1920)        18321984  \n",
      "_________________________________________________________________\n",
      "global_average_pooling2d_1 ( (None, 1920)              0         \n",
      "_________________________________________________________________\n",
      "dropout_1 (Dropout)          (None, 1920)              0         \n",
      "_________________________________________________________________\n",
      "batch_normalization_1 (Batch (None, 1920)              7680      \n",
      "_________________________________________________________________\n",
      "dense_1 (Dense)              (None, 2)                 3842      \n",
      "=================================================================\n",
      "Total params: 18,333,506\n",
      "Trainable params: 18,100,610\n",
      "Non-trainable params: 232,896\n",
      "_________________________________________________________________\n"
     ]
    }
   ],
   "source": [
    "def build_model(backbone, lr=1e-3):\n",
    "    model = Sequential()\n",
    "    model.add(backbone)\n",
    "    model.add(layers.GlobalAveragePooling2D())\n",
    "    model.add(layers.Dropout(0.5))\n",
    "    model.add(layers.BatchNormalization())\n",
    "    model.add(layers.Dense(2, activation='softmax'))\n",
    "    \n",
    "    model.compile(\n",
    "        loss='binary_crossentropy',\n",
    "        optimizer=Adam(lr=lr),\n",
    "        metrics=['accuracy']\n",
    "    )\n",
    "    return model\n",
    "\n",
    "DenseNet = DenseNet201(\n",
    "    weights='imagenet',\n",
    "    include_top=False,\n",
    "    input_shape=(224,224,3)\n",
    ")\n",
    "\n",
    "model = build_model(DenseNet ,lr = 1e-4)\n",
    "model.summary()"
   ]
  },
  {
   "cell_type": "code",
   "execution_count": 9,
   "metadata": {},
   "outputs": [
    {
     "name": "stdout",
     "output_type": "stream",
     "text": [
      "Epoch 1/50\n",
      "100/100 [==============================] - 139s 1s/step - loss: 0.7976 - accuracy: 0.5750 - val_loss: 0.7588 - val_accuracy: 0.6500\n",
      "\n",
      "Epoch 00001: val_accuracy improved from -inf to 0.65000, saving model to weights.best.1e-4_accuracy.hdf5\n",
      "Epoch 2/50\n",
      "100/100 [==============================] - 80s 799ms/step - loss: 0.7393 - accuracy: 0.5850 - val_loss: 0.6635 - val_accuracy: 0.7400\n",
      "\n",
      "Epoch 00002: val_accuracy improved from 0.65000 to 0.74000, saving model to weights.best.1e-4_accuracy.hdf5\n",
      "Epoch 3/50\n",
      "100/100 [==============================] - 80s 803ms/step - loss: 0.7544 - accuracy: 0.5700 - val_loss: 0.5776 - val_accuracy: 0.6900\n",
      "\n",
      "Epoch 00003: val_accuracy did not improve from 0.74000\n",
      "Epoch 4/50\n",
      "100/100 [==============================] - 80s 802ms/step - loss: 0.6899 - accuracy: 0.6550 - val_loss: 0.7810 - val_accuracy: 0.6100\n",
      "\n",
      "Epoch 00004: val_accuracy did not improve from 0.74000\n",
      "Epoch 5/50\n",
      "100/100 [==============================] - 80s 803ms/step - loss: 0.7089 - accuracy: 0.6150 - val_loss: 0.6578 - val_accuracy: 0.7100\n",
      "\n",
      "Epoch 00005: val_accuracy did not improve from 0.74000\n",
      "Epoch 6/50\n",
      "100/100 [==============================] - 80s 802ms/step - loss: 0.6360 - accuracy: 0.6700 - val_loss: 0.8317 - val_accuracy: 0.7100\n",
      "\n",
      "Epoch 00006: val_accuracy did not improve from 0.74000\n",
      "Epoch 7/50\n",
      "100/100 [==============================] - 80s 802ms/step - loss: 0.5777 - accuracy: 0.7200 - val_loss: 1.0627 - val_accuracy: 0.7100\n",
      "\n",
      "Epoch 00007: val_accuracy did not improve from 0.74000\n",
      "Epoch 8/50\n",
      "100/100 [==============================] - 80s 799ms/step - loss: 0.6349 - accuracy: 0.6300 - val_loss: 0.8436 - val_accuracy: 0.7400\n",
      "\n",
      "Epoch 00008: val_accuracy did not improve from 0.74000\n",
      "Epoch 9/50\n",
      "100/100 [==============================] - 80s 803ms/step - loss: 0.6819 - accuracy: 0.6750 - val_loss: 0.7229 - val_accuracy: 0.7800\n",
      "\n",
      "Epoch 00009: val_accuracy improved from 0.74000 to 0.78000, saving model to weights.best.1e-4_accuracy.hdf5\n",
      "Epoch 10/50\n",
      "100/100 [==============================] - 80s 801ms/step - loss: 0.6730 - accuracy: 0.6150 - val_loss: 0.7178 - val_accuracy: 0.7600\n",
      "\n",
      "Epoch 00010: val_accuracy did not improve from 0.78000\n",
      "Epoch 11/50\n",
      "100/100 [==============================] - 80s 802ms/step - loss: 0.6340 - accuracy: 0.6700 - val_loss: 0.6629 - val_accuracy: 0.8000\n",
      "\n",
      "Epoch 00011: val_accuracy improved from 0.78000 to 0.80000, saving model to weights.best.1e-4_accuracy.hdf5\n",
      "Epoch 12/50\n",
      "100/100 [==============================] - 81s 805ms/step - loss: 0.6723 - accuracy: 0.6700 - val_loss: 0.7071 - val_accuracy: 0.7800\n",
      "\n",
      "Epoch 00012: val_accuracy did not improve from 0.80000\n",
      "Epoch 13/50\n",
      "100/100 [==============================] - 81s 806ms/step - loss: 0.6285 - accuracy: 0.6900 - val_loss: 0.7190 - val_accuracy: 0.8000\n",
      "\n",
      "Epoch 00013: val_accuracy did not improve from 0.80000\n",
      "Epoch 14/50\n",
      "100/100 [==============================] - 87s 870ms/step - loss: 0.6695 - accuracy: 0.6450 - val_loss: 0.6445 - val_accuracy: 0.7800\n",
      "\n",
      "Epoch 00014: val_accuracy did not improve from 0.80000\n",
      "Epoch 15/50\n",
      "100/100 [==============================] - 104s 1s/step - loss: 0.6251 - accuracy: 0.6500 - val_loss: 0.8390 - val_accuracy: 0.7900\n",
      "\n",
      "Epoch 00015: val_accuracy did not improve from 0.80000\n",
      "Epoch 16/50\n",
      "100/100 [==============================] - 104s 1s/step - loss: 0.6509 - accuracy: 0.6700 - val_loss: 0.5069 - val_accuracy: 0.8000\n",
      "\n",
      "Epoch 00016: val_accuracy did not improve from 0.80000\n",
      "Epoch 17/50\n",
      "100/100 [==============================] - 106s 1s/step - loss: 0.5465 - accuracy: 0.7450 - val_loss: 0.6165 - val_accuracy: 0.8200\n",
      "\n",
      "Epoch 00017: val_accuracy improved from 0.80000 to 0.82000, saving model to weights.best.1e-4_accuracy.hdf5\n",
      "Epoch 18/50\n",
      "100/100 [==============================] - 105s 1s/step - loss: 0.5892 - accuracy: 0.6950 - val_loss: 0.7771 - val_accuracy: 0.7900\n",
      "\n",
      "Epoch 00018: val_accuracy did not improve from 0.82000\n",
      "Epoch 19/50\n",
      "100/100 [==============================] - 106s 1s/step - loss: 0.6217 - accuracy: 0.6900 - val_loss: 0.6808 - val_accuracy: 0.7700\n",
      "\n",
      "Epoch 00019: val_accuracy did not improve from 0.82000\n",
      "Epoch 20/50\n",
      "100/100 [==============================] - 106s 1s/step - loss: 0.6854 - accuracy: 0.6500 - val_loss: 0.8239 - val_accuracy: 0.7100\n",
      "\n",
      "Epoch 00020: val_accuracy did not improve from 0.82000\n",
      "Epoch 21/50\n",
      "100/100 [==============================] - 103s 1s/step - loss: 0.5559 - accuracy: 0.7200 - val_loss: 0.8661 - val_accuracy: 0.7100\n",
      "\n",
      "Epoch 00021: val_accuracy did not improve from 0.82000\n",
      "Epoch 22/50\n",
      "100/100 [==============================] - 103s 1s/step - loss: 0.6038 - accuracy: 0.6850 - val_loss: 0.9294 - val_accuracy: 0.7700\n",
      "\n",
      "Epoch 00022: val_accuracy did not improve from 0.82000\n",
      "Epoch 23/50\n",
      "100/100 [==============================] - 104s 1s/step - loss: 0.6010 - accuracy: 0.6750 - val_loss: 1.5313 - val_accuracy: 0.6800\n",
      "\n",
      "Epoch 00023: val_accuracy did not improve from 0.82000\n",
      "Epoch 24/50\n",
      "100/100 [==============================] - 104s 1s/step - loss: 0.6480 - accuracy: 0.7000 - val_loss: 2.2838 - val_accuracy: 0.6900\n",
      "\n",
      "Epoch 00024: val_accuracy did not improve from 0.82000\n",
      "Epoch 25/50\n",
      "100/100 [==============================] - 104s 1s/step - loss: 0.6866 - accuracy: 0.6400 - val_loss: 0.9797 - val_accuracy: 0.7300\n",
      "\n",
      "Epoch 00025: val_accuracy did not improve from 0.82000\n",
      "Epoch 26/50\n",
      "100/100 [==============================] - 104s 1s/step - loss: 0.5975 - accuracy: 0.6600 - val_loss: 1.0325 - val_accuracy: 0.7000\n",
      "\n",
      "Epoch 00026: val_accuracy did not improve from 0.82000\n",
      "Epoch 27/50\n",
      "100/100 [==============================] - 103s 1s/step - loss: 0.5715 - accuracy: 0.7150 - val_loss: 0.6690 - val_accuracy: 0.7900\n",
      "\n",
      "Epoch 00027: ReduceLROnPlateau reducing learning rate to 1.9999999494757503e-05.\n",
      "\n",
      "Epoch 00027: val_accuracy did not improve from 0.82000\n",
      "Epoch 28/50\n",
      "100/100 [==============================] - 105s 1s/step - loss: 0.6840 - accuracy: 0.6500 - val_loss: 0.6215 - val_accuracy: 0.7700\n",
      "\n",
      "Epoch 00028: val_accuracy did not improve from 0.82000\n",
      "Epoch 29/50\n",
      "100/100 [==============================] - 104s 1s/step - loss: 0.5654 - accuracy: 0.7200 - val_loss: 0.6493 - val_accuracy: 0.7300\n",
      "\n",
      "Epoch 00029: val_accuracy did not improve from 0.82000\n",
      "Epoch 30/50\n",
      "100/100 [==============================] - 104s 1s/step - loss: 0.5968 - accuracy: 0.7050 - val_loss: 0.7145 - val_accuracy: 0.7400\n",
      "\n",
      "Epoch 00030: val_accuracy did not improve from 0.82000\n",
      "Epoch 31/50\n",
      "100/100 [==============================] - 104s 1s/step - loss: 0.5457 - accuracy: 0.7200 - val_loss: 0.6533 - val_accuracy: 0.7600\n",
      "\n",
      "Epoch 00031: val_accuracy did not improve from 0.82000\n",
      "Epoch 32/50\n",
      "100/100 [==============================] - 103s 1s/step - loss: 0.6121 - accuracy: 0.6900 - val_loss: 0.7273 - val_accuracy: 0.7400\n",
      "\n",
      "Epoch 00032: val_accuracy did not improve from 0.82000\n",
      "Epoch 33/50\n",
      "100/100 [==============================] - 103s 1s/step - loss: 0.5756 - accuracy: 0.7000 - val_loss: 0.5788 - val_accuracy: 0.7700\n",
      "\n",
      "Epoch 00033: val_accuracy did not improve from 0.82000\n",
      "Epoch 34/50\n",
      "100/100 [==============================] - 104s 1s/step - loss: 0.6093 - accuracy: 0.7000 - val_loss: 0.8405 - val_accuracy: 0.7100\n",
      "\n",
      "Epoch 00034: val_accuracy did not improve from 0.82000\n",
      "Epoch 35/50\n",
      "100/100 [==============================] - 101s 1s/step - loss: 0.6149 - accuracy: 0.6700 - val_loss: 0.8861 - val_accuracy: 0.6900\n",
      "\n",
      "Epoch 00035: val_accuracy did not improve from 0.82000\n",
      "Epoch 36/50\n",
      "100/100 [==============================] - 102s 1s/step - loss: 0.6170 - accuracy: 0.6900 - val_loss: 1.0477 - val_accuracy: 0.6800\n",
      "\n",
      "Epoch 00036: val_accuracy did not improve from 0.82000\n",
      "Epoch 37/50\n",
      "100/100 [==============================] - 103s 1s/step - loss: 0.6181 - accuracy: 0.6900 - val_loss: 1.4475 - val_accuracy: 0.6900\n",
      "\n",
      "Epoch 00037: ReduceLROnPlateau reducing learning rate to 3.999999898951501e-06.\n",
      "\n",
      "Epoch 00037: val_accuracy did not improve from 0.82000\n",
      "Epoch 38/50\n",
      "100/100 [==============================] - 104s 1s/step - loss: 0.5275 - accuracy: 0.7300 - val_loss: 1.5416 - val_accuracy: 0.6900\n",
      "\n",
      "Epoch 00038: val_accuracy did not improve from 0.82000\n",
      "Epoch 39/50\n",
      "100/100 [==============================] - 106s 1s/step - loss: 0.5734 - accuracy: 0.7200 - val_loss: 1.4024 - val_accuracy: 0.7100\n",
      "\n",
      "Epoch 00039: val_accuracy did not improve from 0.82000\n",
      "Epoch 40/50\n"
     ]
    },
    {
     "name": "stdout",
     "output_type": "stream",
     "text": [
      "100/100 [==============================] - 105s 1s/step - loss: 0.5534 - accuracy: 0.7450 - val_loss: 1.5453 - val_accuracy: 0.7000\n",
      "\n",
      "Epoch 00040: val_accuracy did not improve from 0.82000\n",
      "Epoch 41/50\n",
      "100/100 [==============================] - 104s 1s/step - loss: 0.5593 - accuracy: 0.7400 - val_loss: 1.4109 - val_accuracy: 0.7100\n",
      "\n",
      "Epoch 00041: val_accuracy did not improve from 0.82000\n",
      "Epoch 42/50\n",
      "100/100 [==============================] - 106s 1s/step - loss: 0.5392 - accuracy: 0.7500 - val_loss: 1.1615 - val_accuracy: 0.7100\n",
      "\n",
      "Epoch 00042: val_accuracy did not improve from 0.82000\n",
      "Epoch 43/50\n",
      "100/100 [==============================] - 105s 1s/step - loss: 0.5544 - accuracy: 0.7200 - val_loss: 1.4503 - val_accuracy: 0.6900\n",
      "\n",
      "Epoch 00043: val_accuracy did not improve from 0.82000\n",
      "Epoch 44/50\n",
      "100/100 [==============================] - 104s 1s/step - loss: 0.6128 - accuracy: 0.6400 - val_loss: 1.4855 - val_accuracy: 0.7000\n",
      "\n",
      "Epoch 00044: val_accuracy did not improve from 0.82000\n",
      "Epoch 45/50\n",
      "100/100 [==============================] - 469s 5s/step - loss: 0.5553 - accuracy: 0.7500 - val_loss: 1.5321 - val_accuracy: 0.7100\n",
      "\n",
      "Epoch 00045: val_accuracy did not improve from 0.82000\n",
      "Epoch 46/50\n",
      "100/100 [==============================] - 90s 900ms/step - loss: 0.5657 - accuracy: 0.7400 - val_loss: 1.5155 - val_accuracy: 0.7000\n",
      "\n",
      "Epoch 00046: val_accuracy did not improve from 0.82000\n",
      "Epoch 47/50\n",
      "100/100 [==============================] - 106s 1s/step - loss: 0.6580 - accuracy: 0.6900 - val_loss: 1.3048 - val_accuracy: 0.7100\n",
      "\n",
      "Epoch 00047: ReduceLROnPlateau reducing learning rate to 7.999999979801942e-07.\n",
      "\n",
      "Epoch 00047: val_accuracy did not improve from 0.82000\n",
      "Epoch 48/50\n",
      "100/100 [==============================] - 106s 1s/step - loss: 0.6340 - accuracy: 0.6750 - val_loss: 1.4141 - val_accuracy: 0.7000\n",
      "\n",
      "Epoch 00048: val_accuracy did not improve from 0.82000\n",
      "Epoch 49/50\n",
      "100/100 [==============================] - 106s 1s/step - loss: 0.5586 - accuracy: 0.7200 - val_loss: 1.2182 - val_accuracy: 0.7300\n",
      "\n",
      "Epoch 00049: val_accuracy did not improve from 0.82000\n",
      "Epoch 50/50\n",
      "100/100 [==============================] - 105s 1s/step - loss: 0.5479 - accuracy: 0.7200 - val_loss: 1.2597 - val_accuracy: 0.7200\n",
      "\n",
      "Epoch 00050: val_accuracy did not improve from 0.82000\n"
     ]
    }
   ],
   "source": [
    "learn_control = ReduceLROnPlateau(monitor='val_accuracy', patience=10,\n",
    "                                  verbose=1,factor=0.2, min_lr=1e-7)\n",
    "\n",
    "filepath=\"weights.best.1e-4_accuracy.hdf5\"\n",
    "checkpoint = ModelCheckpoint(filepath, monitor='val_accuracy', verbose=1, save_best_only=True, mode='max')\n",
    "\n",
    "history = model.fit_generator(\n",
    "    train_generator.flow(X_train, Y_train, batch_size=BATCH_SIZE),\n",
    "    steps_per_epoch=X_train.shape[0] / BATCH_SIZE,\n",
    "    epochs=50,\n",
    "    validation_data=(X_test, Y_test),\n",
    "    callbacks=[learn_control, checkpoint]  \n",
    ")"
   ]
  },
  {
   "cell_type": "code",
   "execution_count": 10,
   "metadata": {
    "scrolled": true
   },
   "outputs": [
    {
     "data": {
      "text/plain": [
       "<matplotlib.axes._subplots.AxesSubplot at 0x2268792dc88>"
      ]
     },
     "execution_count": 10,
     "metadata": {},
     "output_type": "execute_result"
    },
    {
     "data": {
      "image/png": "[encoded data removed]",
      "text/plain": [
       "<Figure size 432x288 with 1 Axes>"
      ]
     },
     "metadata": {
      "needs_background": "light"
     },
     "output_type": "display_data"
    },
    {
     "data": {
      "image/png": "[encoded data removed]",
      "text/plain": [
       "<Figure size 432x288 with 1 Axes>"
      ]
     },
     "metadata": {
      "needs_background": "light"
     },
     "output_type": "display_data"
    }
   ],
   "source": [
    "history_df = pd.DataFrame(history.history)\n",
    "history_df[['loss', 'val_loss']].plot()\n",
    "\n",
    "history_df = pd.DataFrame(history.history)\n",
    "history_df[['accuracy', 'val_accuracy']].plot()"
   ]
  },
  {
   "cell_type": "code",
   "execution_count": 9,
   "metadata": {},
   "outputs": [],
   "source": [
    "model = load_model(\"weights.best.1e-4_accuracy.hdf5\")"
   ]
  },
  {
   "cell_type": "code",
   "execution_count": 10,
   "metadata": {},
   "outputs": [],
   "source": [
    "Y_pred = model.predict(X_test, batch_size=2)"
   ]
  },
  {
   "cell_type": "code",
   "execution_count": 11,
   "metadata": {},
   "outputs": [
    {
     "name": "stdout",
     "output_type": "stream",
     "text": [
      "Confusion matrix, without normalization\n",
      "[[43  7]\n",
      " [11 39]]\n"
     ]
    },
    {
     "data": {
      "image/png": "[encoded data removed]",
      "text/plain": [
       "<Figure size 432x288 with 2 Axes>"
      ]
     },
     "metadata": {
      "needs_background": "light"
     },
     "output_type": "display_data"
    }
   ],
   "source": [
    "classification_report( np.argmax(Y_test, axis=1), np.argmax(Y_pred, axis=1))\n",
    "\n",
    "\n",
    "def plot_confusion_matrix(cm, classes,\n",
    "                          normalize=False,\n",
    "                          title='Confusion matrix',\n",
    "                          cmap=plt.cm.Blues):\n",
    "    if normalize:\n",
    "        cm = cm.astype('float') / cm.sum(axis=1)[:, np.newaxis]\n",
    "        print(\"Normalized confusion matrix\")\n",
    "    else:\n",
    "        print('Confusion matrix, without normalization')\n",
    "\n",
    "    print(cm)\n",
    "\n",
    "    plt.imshow(cm, interpolation='nearest', cmap=cmap)\n",
    "    plt.title(title)\n",
    "    plt.colorbar()\n",
    "    tick_marks = np.arange(len(classes))\n",
    "    plt.xticks(tick_marks, classes, rotation=55)\n",
    "    plt.yticks(tick_marks, classes)\n",
    "    fmt = '.2f' if normalize else 'd'\n",
    "    thresh = cm.max() / 2.\n",
    "    for i, j in itertools.product(range(cm.shape[0]), range(cm.shape[1])):\n",
    "        plt.text(j, i, format(cm[i, j], fmt),\n",
    "                 horizontalalignment=\"center\",\n",
    "                 color=\"white\" if cm[i, j] > thresh else \"black\")\n",
    "\n",
    "    plt.ylabel('True label')\n",
    "    plt.xlabel('Predicted label')\n",
    "    plt.tight_layout()\n",
    "\n",
    "cm = confusion_matrix(np.argmax(Y_test, axis=1), np.argmax(Y_pred, axis=1))\n",
    "\n",
    "cm_plot_label =['benign', 'malignant']\n",
    "plot_confusion_matrix(cm, cm_plot_label, title ='Confusion Metrix for Skin Cancer')"
   ]
  },
  {
   "cell_type": "markdown",
   "metadata": {},
   "source": [
    "# ResNET50"
   ]
  },
  {
   "cell_type": "code",
   "execution_count": 12,
   "metadata": {},
   "outputs": [
    {
     "name": "stderr",
     "output_type": "stream",
     "text": [
      "C:\\Users\\Anthime\\anaconda3\\envs\\Data_Science\\lib\\site-packages\\keras_applications\\resnet50.py:265: UserWarning: The output shape of `ResNet50(include_top=False)` has been changed since Keras 2.2.0.\n",
      "  warnings.warn('The output shape of `ResNet50(include_top=False)` '\n"
     ]
    },
    {
     "name": "stdout",
     "output_type": "stream",
     "text": [
      "Model: \"sequential_2\"\n",
      "_________________________________________________________________\n",
      "Layer (type)                 Output Shape              Param #   \n",
      "=================================================================\n",
      "resnet50 (Model)             (None, 7, 7, 2048)        23587712  \n",
      "_________________________________________________________________\n",
      "global_average_pooling2d_2 ( (None, 2048)              0         \n",
      "_________________________________________________________________\n",
      "dropout_2 (Dropout)          (None, 2048)              0         \n",
      "_________________________________________________________________\n",
      "batch_normalization_2 (Batch (None, 2048)              8192      \n",
      "_________________________________________________________________\n",
      "dense_2 (Dense)              (None, 2)                 4098      \n",
      "=================================================================\n",
      "Total params: 23,600,002\n",
      "Trainable params: 23,542,786\n",
      "Non-trainable params: 57,216\n",
      "_________________________________________________________________\n"
     ]
    }
   ],
   "source": [
    "ResNet = applications.resnet50.ResNet50(weights= 'imagenet', include_top=False, input_shape= (224, 224, 3))\n",
    "\n",
    "model_r = build_model(ResNet ,lr = 1e-4)\n",
    "model_r.summary()"
   ]
  },
  {
   "cell_type": "code",
   "execution_count": 13,
   "metadata": {},
   "outputs": [],
   "source": [
    "BATCH_SIZE = 2\n",
    "\n",
    "train_generator = ImageDataGenerator(\n",
    "        zoom_range=2,  # set range for random zoom\n",
    "        rotation_range = 90,\n",
    "        horizontal_flip=True,  # randomly flip images\n",
    "        vertical_flip=True,  # randomly flip images\n",
    "    )"
   ]
  },
  {
   "cell_type": "code",
   "execution_count": 14,
   "metadata": {
    "scrolled": false
   },
   "outputs": [
    {
     "name": "stdout",
     "output_type": "stream",
     "text": [
      "Epoch 1/50\n",
      "100/100 [==============================] - 67s 674ms/step - loss: 0.9379 - accuracy: 0.5200 - val_loss: 1.2362 - val_accuracy: 0.5500\n",
      "\n",
      "Epoch 00001: val_accuracy improved from -inf to 0.55000, saving model to weights.best.ResNET.1e-4_accuracy_patience10.hdf5\n",
      "Epoch 2/50\n",
      "100/100 [==============================] - 49s 492ms/step - loss: 0.8428 - accuracy: 0.5400 - val_loss: 0.7092 - val_accuracy: 0.7200\n",
      "\n",
      "Epoch 00002: val_accuracy improved from 0.55000 to 0.72000, saving model to weights.best.ResNET.1e-4_accuracy_patience10.hdf5\n",
      "Epoch 3/50\n",
      "100/100 [==============================] - 49s 492ms/step - loss: 0.9631 - accuracy: 0.5650 - val_loss: 0.9450 - val_accuracy: 0.7000\n",
      "\n",
      "Epoch 00003: val_accuracy did not improve from 0.72000\n",
      "Epoch 4/50\n",
      "100/100 [==============================] - 49s 493ms/step - loss: 0.7827 - accuracy: 0.6100 - val_loss: 1.0541 - val_accuracy: 0.6200\n",
      "\n",
      "Epoch 00004: val_accuracy did not improve from 0.72000\n",
      "Epoch 5/50\n",
      "100/100 [==============================] - 49s 492ms/step - loss: 0.8124 - accuracy: 0.5750 - val_loss: 1.0210 - val_accuracy: 0.5900\n",
      "\n",
      "Epoch 00005: val_accuracy did not improve from 0.72000\n",
      "Epoch 6/50\n",
      "100/100 [==============================] - 49s 492ms/step - loss: 0.8127 - accuracy: 0.6400 - val_loss: 0.8861 - val_accuracy: 0.7300\n",
      "\n",
      "Epoch 00006: val_accuracy improved from 0.72000 to 0.73000, saving model to weights.best.ResNET.1e-4_accuracy_patience10.hdf5\n",
      "Epoch 7/50\n",
      "100/100 [==============================] - 49s 494ms/step - loss: 0.7920 - accuracy: 0.6100 - val_loss: 0.6433 - val_accuracy: 0.7100\n",
      "\n",
      "Epoch 00007: val_accuracy did not improve from 0.73000\n",
      "Epoch 8/50\n",
      "100/100 [==============================] - 49s 493ms/step - loss: 0.7740 - accuracy: 0.6150 - val_loss: 0.5589 - val_accuracy: 0.7300\n",
      "\n",
      "Epoch 00008: val_accuracy did not improve from 0.73000\n",
      "Epoch 9/50\n",
      "100/100 [==============================] - 49s 493ms/step - loss: 0.7417 - accuracy: 0.6100 - val_loss: 0.9779 - val_accuracy: 0.6800\n",
      "\n",
      "Epoch 00009: val_accuracy did not improve from 0.73000\n",
      "Epoch 10/50\n",
      "100/100 [==============================] - 49s 491ms/step - loss: 0.7842 - accuracy: 0.6000 - val_loss: 0.7563 - val_accuracy: 0.7400\n",
      "\n",
      "Epoch 00010: val_accuracy improved from 0.73000 to 0.74000, saving model to weights.best.ResNET.1e-4_accuracy_patience10.hdf5\n",
      "Epoch 11/50\n",
      "100/100 [==============================] - 49s 492ms/step - loss: 0.7302 - accuracy: 0.6450 - val_loss: 0.9186 - val_accuracy: 0.6900\n",
      "\n",
      "Epoch 00011: val_accuracy did not improve from 0.74000\n",
      "Epoch 12/50\n",
      "100/100 [==============================] - 49s 494ms/step - loss: 0.7274 - accuracy: 0.6500 - val_loss: 0.6951 - val_accuracy: 0.7300\n",
      "\n",
      "Epoch 00012: val_accuracy did not improve from 0.74000\n",
      "Epoch 13/50\n",
      "100/100 [==============================] - 49s 493ms/step - loss: 0.6963 - accuracy: 0.6600 - val_loss: 0.7461 - val_accuracy: 0.7200\n",
      "\n",
      "Epoch 00013: val_accuracy did not improve from 0.74000\n",
      "Epoch 14/50\n",
      "100/100 [==============================] - 49s 492ms/step - loss: 0.7158 - accuracy: 0.6300 - val_loss: 0.7089 - val_accuracy: 0.7400\n",
      "\n",
      "Epoch 00014: val_accuracy did not improve from 0.74000\n",
      "Epoch 15/50\n",
      "100/100 [==============================] - 50s 497ms/step - loss: 0.6852 - accuracy: 0.6550 - val_loss: 0.6683 - val_accuracy: 0.7500\n",
      "\n",
      "Epoch 00015: val_accuracy improved from 0.74000 to 0.75000, saving model to weights.best.ResNET.1e-4_accuracy_patience10.hdf5\n",
      "Epoch 16/50\n",
      "100/100 [==============================] - 50s 496ms/step - loss: 0.6882 - accuracy: 0.6600 - val_loss: 0.6014 - val_accuracy: 0.7600\n",
      "\n",
      "Epoch 00016: val_accuracy improved from 0.75000 to 0.76000, saving model to weights.best.ResNET.1e-4_accuracy_patience10.hdf5\n",
      "Epoch 17/50\n",
      "100/100 [==============================] - 50s 496ms/step - loss: 0.7586 - accuracy: 0.6450 - val_loss: 0.6585 - val_accuracy: 0.7800\n",
      "\n",
      "Epoch 00017: val_accuracy improved from 0.76000 to 0.78000, saving model to weights.best.ResNET.1e-4_accuracy_patience10.hdf5\n",
      "Epoch 18/50\n",
      "100/100 [==============================] - 49s 493ms/step - loss: 0.7439 - accuracy: 0.6600 - val_loss: 1.9943 - val_accuracy: 0.6400\n",
      "\n",
      "Epoch 00018: val_accuracy did not improve from 0.78000\n",
      "Epoch 19/50\n",
      "100/100 [==============================] - 49s 491ms/step - loss: 0.7308 - accuracy: 0.6000 - val_loss: 2.8295 - val_accuracy: 0.5700\n",
      "\n",
      "Epoch 00019: val_accuracy did not improve from 0.78000\n",
      "Epoch 20/50\n",
      "100/100 [==============================] - 49s 488ms/step - loss: 0.7200 - accuracy: 0.6300 - val_loss: 0.6948 - val_accuracy: 0.6700\n",
      "\n",
      "Epoch 00020: val_accuracy did not improve from 0.78000\n",
      "Epoch 21/50\n",
      "100/100 [==============================] - 49s 488ms/step - loss: 0.6830 - accuracy: 0.6400 - val_loss: 0.9467 - val_accuracy: 0.6100\n",
      "\n",
      "Epoch 00021: val_accuracy did not improve from 0.78000\n",
      "Epoch 22/50\n",
      "100/100 [==============================] - 49s 488ms/step - loss: 0.6577 - accuracy: 0.6650 - val_loss: 0.6628 - val_accuracy: 0.7200\n",
      "\n",
      "Epoch 00022: val_accuracy did not improve from 0.78000\n",
      "Epoch 23/50\n",
      "100/100 [==============================] - 49s 488ms/step - loss: 0.6281 - accuracy: 0.6900 - val_loss: 0.6508 - val_accuracy: 0.7000\n",
      "\n",
      "Epoch 00023: val_accuracy did not improve from 0.78000\n",
      "Epoch 24/50\n",
      "100/100 [==============================] - 49s 488ms/step - loss: 0.6270 - accuracy: 0.6650 - val_loss: 0.7777 - val_accuracy: 0.7400\n",
      "\n",
      "Epoch 00024: val_accuracy did not improve from 0.78000\n",
      "Epoch 25/50\n",
      "100/100 [==============================] - 49s 488ms/step - loss: 0.7476 - accuracy: 0.6300 - val_loss: 1.0055 - val_accuracy: 0.6300\n",
      "\n",
      "Epoch 00025: val_accuracy did not improve from 0.78000\n",
      "Epoch 26/50\n",
      "100/100 [==============================] - 49s 487ms/step - loss: 0.7035 - accuracy: 0.6050 - val_loss: 0.6459 - val_accuracy: 0.7400\n",
      "\n",
      "Epoch 00026: val_accuracy did not improve from 0.78000\n",
      "Epoch 27/50\n",
      "100/100 [==============================] - 49s 487ms/step - loss: 0.6233 - accuracy: 0.6700 - val_loss: 1.2088 - val_accuracy: 0.6800\n",
      "\n",
      "Epoch 00027: ReduceLROnPlateau reducing learning rate to 1.9999999494757503e-05.\n",
      "\n",
      "Epoch 00027: val_accuracy did not improve from 0.78000\n",
      "Epoch 28/50\n",
      "100/100 [==============================] - 49s 487ms/step - loss: 0.5902 - accuracy: 0.6900 - val_loss: 0.8801 - val_accuracy: 0.7700\n",
      "\n",
      "Epoch 00028: val_accuracy did not improve from 0.78000\n",
      "Epoch 29/50\n",
      "100/100 [==============================] - 49s 488ms/step - loss: 0.6408 - accuracy: 0.6600 - val_loss: 1.0121 - val_accuracy: 0.7900\n",
      "\n",
      "Epoch 00029: val_accuracy improved from 0.78000 to 0.79000, saving model to weights.best.ResNET.1e-4_accuracy_patience10.hdf5\n",
      "Epoch 30/50\n",
      "100/100 [==============================] - 49s 487ms/step - loss: 0.6465 - accuracy: 0.6600 - val_loss: 1.0486 - val_accuracy: 0.7500\n",
      "\n",
      "Epoch 00030: val_accuracy did not improve from 0.79000\n",
      "Epoch 31/50\n",
      "100/100 [==============================] - 37550s 376s/step - loss: 0.6607 - accuracy: 0.6800 - val_loss: 0.9487 - val_accuracy: 0.7600\n",
      "\n",
      "Epoch 00031: val_accuracy did not improve from 0.79000\n",
      "Epoch 32/50\n",
      "100/100 [==============================] - 48s 482ms/step - loss: 0.6039 - accuracy: 0.6800 - val_loss: 1.0111 - val_accuracy: 0.7300\n",
      "\n",
      "Epoch 00032: val_accuracy did not improve from 0.79000\n",
      "Epoch 33/50\n",
      "100/100 [==============================] - 48s 482ms/step - loss: 0.6268 - accuracy: 0.6900 - val_loss: 0.9791 - val_accuracy: 0.7500\n",
      "\n",
      "Epoch 00033: val_accuracy did not improve from 0.79000\n",
      "Epoch 34/50\n",
      "100/100 [==============================] - 48s 482ms/step - loss: 0.6407 - accuracy: 0.7000 - val_loss: 1.0359 - val_accuracy: 0.7800\n",
      "\n",
      "Epoch 00034: val_accuracy did not improve from 0.79000\n",
      "Epoch 35/50\n",
      "100/100 [==============================] - 48s 484ms/step - loss: 0.7061 - accuracy: 0.6600 - val_loss: 0.9220 - val_accuracy: 0.7800\n",
      "\n",
      "Epoch 00035: val_accuracy did not improve from 0.79000\n",
      "Epoch 36/50\n",
      "100/100 [==============================] - 48s 484ms/step - loss: 0.5563 - accuracy: 0.7250 - val_loss: 0.8908 - val_accuracy: 0.7600\n",
      "\n",
      "Epoch 00036: val_accuracy did not improve from 0.79000\n",
      "Epoch 37/50\n",
      "100/100 [==============================] - 48s 484ms/step - loss: 0.6197 - accuracy: 0.7000 - val_loss: 0.9527 - val_accuracy: 0.7800\n",
      "\n",
      "Epoch 00037: val_accuracy did not improve from 0.79000\n",
      "Epoch 38/50\n"
     ]
    },
    {
     "name": "stdout",
     "output_type": "stream",
     "text": [
      "100/100 [==============================] - 48s 484ms/step - loss: 0.6153 - accuracy: 0.6700 - val_loss: 0.9236 - val_accuracy: 0.7500\n",
      "\n",
      "Epoch 00038: val_accuracy did not improve from 0.79000\n",
      "Epoch 39/50\n",
      "100/100 [==============================] - 48s 485ms/step - loss: 0.5711 - accuracy: 0.6800 - val_loss: 0.9907 - val_accuracy: 0.7800\n",
      "\n",
      "Epoch 00039: ReduceLROnPlateau reducing learning rate to 3.999999898951501e-06.\n",
      "\n",
      "Epoch 00039: val_accuracy did not improve from 0.79000\n",
      "Epoch 40/50\n",
      "100/100 [==============================] - 48s 485ms/step - loss: 0.6176 - accuracy: 0.6700 - val_loss: 1.0113 - val_accuracy: 0.7700\n",
      "\n",
      "Epoch 00040: val_accuracy did not improve from 0.79000\n",
      "Epoch 41/50\n",
      "100/100 [==============================] - 48s 485ms/step - loss: 0.6212 - accuracy: 0.6900 - val_loss: 0.9212 - val_accuracy: 0.7700\n",
      "\n",
      "Epoch 00041: val_accuracy did not improve from 0.79000\n",
      "Epoch 42/50\n",
      "100/100 [==============================] - 48s 485ms/step - loss: 0.6040 - accuracy: 0.7100 - val_loss: 0.9163 - val_accuracy: 0.7500\n",
      "\n",
      "Epoch 00042: val_accuracy did not improve from 0.79000\n",
      "Epoch 43/50\n",
      "100/100 [==============================] - 49s 486ms/step - loss: 0.5853 - accuracy: 0.6700 - val_loss: 0.9797 - val_accuracy: 0.7600\n",
      "\n",
      "Epoch 00043: val_accuracy did not improve from 0.79000\n",
      "Epoch 44/50\n",
      "100/100 [==============================] - 49s 485ms/step - loss: 0.5742 - accuracy: 0.7100 - val_loss: 0.9370 - val_accuracy: 0.7500\n",
      "\n",
      "Epoch 00044: val_accuracy did not improve from 0.79000\n",
      "Epoch 45/50\n",
      "100/100 [==============================] - 48s 485ms/step - loss: 0.6219 - accuracy: 0.6900 - val_loss: 0.9657 - val_accuracy: 0.7700\n",
      "\n",
      "Epoch 00045: val_accuracy did not improve from 0.79000\n",
      "Epoch 46/50\n",
      "100/100 [==============================] - 48s 484ms/step - loss: 0.5067 - accuracy: 0.7100 - val_loss: 0.9518 - val_accuracy: 0.7700\n",
      "\n",
      "Epoch 00046: val_accuracy did not improve from 0.79000\n",
      "Epoch 47/50\n",
      "100/100 [==============================] - 48s 485ms/step - loss: 0.5462 - accuracy: 0.7700 - val_loss: 0.9616 - val_accuracy: 0.7800\n",
      "\n",
      "Epoch 00047: val_accuracy did not improve from 0.79000\n",
      "Epoch 48/50\n",
      "100/100 [==============================] - 48s 485ms/step - loss: 0.6375 - accuracy: 0.6900 - val_loss: 0.8968 - val_accuracy: 0.7700\n",
      "\n",
      "Epoch 00048: val_accuracy did not improve from 0.79000\n",
      "Epoch 49/50\n",
      "100/100 [==============================] - 49s 489ms/step - loss: 0.6412 - accuracy: 0.6700 - val_loss: 0.8710 - val_accuracy: 0.7700\n",
      "\n",
      "Epoch 00049: ReduceLROnPlateau reducing learning rate to 7.999999979801942e-07.\n",
      "\n",
      "Epoch 00049: val_accuracy did not improve from 0.79000\n",
      "Epoch 50/50\n",
      "100/100 [==============================] - 49s 485ms/step - loss: 0.5997 - accuracy: 0.6800 - val_loss: 0.9233 - val_accuracy: 0.7500\n",
      "\n",
      "Epoch 00050: val_accuracy did not improve from 0.79000\n"
     ]
    }
   ],
   "source": [
    "learn_control = ReduceLROnPlateau(monitor='val_accuracy', patience=10,\n",
    "                                  verbose=1,factor=0.2, min_lr=1e-7)\n",
    "\n",
    "filepath=\"weights.best.ResNET.1e-4_accuracy_patience10.hdf5\"\n",
    "checkpoint = ModelCheckpoint(filepath, monitor='val_accuracy', verbose=1, save_best_only=True, mode='max')\n",
    "\n",
    "history_r = model_r.fit_generator(\n",
    "    train_generator.flow(X_train, Y_train, batch_size=BATCH_SIZE),\n",
    "    steps_per_epoch=X_train.shape[0] / BATCH_SIZE,\n",
    "    epochs=50,\n",
    "    validation_data=(X_test, Y_test),\n",
    "    callbacks=[learn_control, checkpoint]  \n",
    ")"
   ]
  },
  {
   "cell_type": "code",
   "execution_count": 17,
   "metadata": {},
   "outputs": [
    {
     "data": {
      "text/plain": [
       "<matplotlib.axes._subplots.AxesSubplot at 0x2a6f288b630>"
      ]
     },
     "execution_count": 17,
     "metadata": {},
     "output_type": "execute_result"
    },
    {
     "data": {
      "image/png": "[encoded data removed]",
      "text/plain": [
       "<Figure size 432x288 with 1 Axes>"
      ]
     },
     "metadata": {
      "needs_background": "light"
     },
     "output_type": "display_data"
    },
    {
     "data": {
      "image/png": "[encoded data removed]",
      "text/plain": [
       "<Figure size 432x288 with 1 Axes>"
      ]
     },
     "metadata": {
      "needs_background": "light"
     },
     "output_type": "display_data"
    }
   ],
   "source": [
    "history_df = pd.DataFrame(history_r.history)\n",
    "history_df[['loss', 'val_loss']].plot()\n",
    "\n",
    "history_df = pd.DataFrame(history_r.history)\n",
    "history_df[['accuracy', 'val_accuracy']].plot()"
   ]
  },
  {
   "cell_type": "code",
   "execution_count": 18,
   "metadata": {},
   "outputs": [],
   "source": [
    "Y_pred = model_r.predict(X_test, batch_size=2)"
   ]
  },
  {
   "cell_type": "code",
   "execution_count": 19,
   "metadata": {},
   "outputs": [
    {
     "name": "stdout",
     "output_type": "stream",
     "text": [
      "Confusion matrix, without normalization\n",
      "[[33 17]\n",
      " [ 8 42]]\n"
     ]
    },
    {
     "data": {
      "image/png": "[encoded data removed]",
      "text/plain": [
       "<Figure size 432x288 with 2 Axes>"
      ]
     },
     "metadata": {
      "needs_background": "light"
     },
     "output_type": "display_data"
    }
   ],
   "source": [
    "from sklearn.metrics import classification_report\n",
    "classification_report( np.argmax(Y_test, axis=1), np.argmax(Y_pred, axis=1))\n",
    "\n",
    "from sklearn.metrics import confusion_matrix\n",
    "\n",
    "def plot_confusion_matrix(cm, classes,\n",
    "                          normalize=False,\n",
    "                          title='Confusion matrix',\n",
    "                          cmap=plt.cm.Blues):\n",
    "    if normalize:\n",
    "        cm = cm.astype('float') / cm.sum(axis=1)[:, np.newaxis]\n",
    "        print(\"Normalized confusion matrix\")\n",
    "    else:\n",
    "        print('Confusion matrix, without normalization')\n",
    "\n",
    "    print(cm)\n",
    "\n",
    "    plt.imshow(cm, interpolation='nearest', cmap=cmap)\n",
    "    plt.title(title)\n",
    "    plt.colorbar()\n",
    "    tick_marks = np.arange(len(classes))\n",
    "    plt.xticks(tick_marks, classes, rotation=55)\n",
    "    plt.yticks(tick_marks, classes)\n",
    "    fmt = '.2f' if normalize else 'd'\n",
    "    thresh = cm.max() / 2.\n",
    "    for i, j in itertools.product(range(cm.shape[0]), range(cm.shape[1])):\n",
    "        plt.text(j, i, format(cm[i, j], fmt),\n",
    "                 horizontalalignment=\"center\",\n",
    "                 color=\"white\" if cm[i, j] > thresh else \"black\")\n",
    "\n",
    "    plt.ylabel('True label')\n",
    "    plt.xlabel('Predicted label')\n",
    "    plt.tight_layout()\n",
    "\n",
    "cm = confusion_matrix(np.argmax(Y_test, axis=1), np.argmax(Y_pred, axis=1))\n",
    "\n",
    "cm_plot_label =['benign', 'malignant']\n",
    "plot_confusion_matrix(cm, cm_plot_label, title ='Confusion Metrix for Skin Cancer')"
   ]
  },
  {
   "cell_type": "code",
   "execution_count": 16,
   "metadata": {},
   "outputs": [],
   "source": [
    "from keras.models import load_model\n",
    "\n",
    "model = load_model('weights.best.hdf5')"
   ]
  },
  {
   "cell_type": "code",
   "execution_count": 23,
   "metadata": {},
   "outputs": [
    {
     "name": "stdout",
     "output_type": "stream",
     "text": [
      "Test loss: 0.48373308998241554\n",
      "Test accuracy: 0.8399999737739563\n"
     ]
    }
   ],
   "source": [
    "score = model.evaluate(X_test, Y_test, batch_size=2, verbose=0)\n",
    "print('Test loss:', score[0])\n",
    "print('Test accuracy:', score[1])"
   ]
  }
 ],
 "metadata": {
  "kernelspec": {
   "display_name": "Python 3",
   "language": "python",
   "name": "python3"
  },
  "language_info": {
   "codemirror_mode": {
    "name": "ipython",
    "version": 3
   },
   "file_extension": ".py",
   "mimetype": "text/x-python",
   "name": "python",
   "nbconvert_exporter": "python",
   "pygments_lexer": "ipython3",
   "version": "3.6.10"
  }
 },
 "nbformat": 4,
 "nbformat_minor": 4
}
